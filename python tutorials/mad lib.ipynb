{
 "cells": [
  {
   "cell_type": "code",
   "execution_count": 1,
   "metadata": {},
   "outputs": [
    {
     "name": "stdout",
     "output_type": "stream",
     "text": [
      "enter a colorblue\n",
      "enter a plural nounstones\n",
      "enter a celebrityJuanita\n",
      "Roses areblue\n",
      "stonesare blue\n",
      "I loveJuanita\n"
     ]
    }
   ],
   "source": [
    "color=input(\"enter a color\")\n",
    "plural_noun=input(\"enter a plural noun\")\n",
    "celebrity=input(\"enter a celebrity\")\n",
    "\n",
    "print(\"Roses are\"+ \"\"+color)\n",
    "print(plural_noun+\"\"+ \"are blue\")\n",
    "print(\"I love\" +\"\"+ celebrity)"
   ]
  },
  {
   "cell_type": "code",
   "execution_count": null,
   "metadata": {},
   "outputs": [],
   "source": []
  },
  {
   "cell_type": "code",
   "execution_count": null,
   "metadata": {},
   "outputs": [],
   "source": []
  }
 ],
 "metadata": {
  "kernelspec": {
   "display_name": "Python 3",
   "language": "python",
   "name": "python3"
  },
  "language_info": {
   "codemirror_mode": {
    "name": "ipython",
    "version": 3
   },
   "file_extension": ".py",
   "mimetype": "text/x-python",
   "name": "python",
   "nbconvert_exporter": "python",
   "pygments_lexer": "ipython3",
   "version": "3.7.3"
  }
 },
 "nbformat": 4,
 "nbformat_minor": 2
}
