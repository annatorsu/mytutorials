{
 "cells": [
  {
   "cell_type": "code",
   "execution_count": 1,
   "metadata": {},
   "outputs": [
    {
     "name": "stdout",
     "output_type": "stream",
     "text": [
      "10\n",
      "donE with loop\n"
     ]
    }
   ],
   "source": [
    "i=10\n",
    "while i<=10:\n",
    "    print(i)\n",
    "    i += 1\n",
    "print(\"donE with loop\")"
   ]
  },
  {
   "cell_type": "code",
   "execution_count": 2,
   "metadata": {},
   "outputs": [
    {
     "name": "stdout",
     "output_type": "stream",
     "text": [
      "enter guessMAN\n",
      "enter guessWILL\n",
      "enter guessGIRL\n",
      "enter guessGIRAFFE\n",
      "enter guessgiraffe\n",
      "you win\n"
     ]
    }
   ],
   "source": [
    "secret_word=\"giraffe\"\n",
    "guess=\"\"\n",
    "while guess!=secret_word:\n",
    "    guess=input(\"enter guess\")\n",
    "print(\"you win\")    "
   ]
  },
  {
   "cell_type": "code",
   "execution_count": 3,
   "metadata": {},
   "outputs": [
    {
     "name": "stdout",
     "output_type": "stream",
     "text": [
      "enter guesshdhd\n",
      "enter guessfbvher\n",
      "enter guessbb\n",
      "out of guesses, you lose\n"
     ]
    }
   ],
   "source": [
    "secret_word=\"giraffe\"\n",
    "guess=\"\"\n",
    "guess_count=0\n",
    "guess_limit=3\n",
    "out_of_guesses=False\n",
    "\n",
    "while guess!=secret_word and not(out_of_guesses):\n",
    "    if guess_count<guess_limit:\n",
    "        guess=input(\"enter guess\")\n",
    "        guess_count+=1\n",
    "    else:\n",
    "        out_of_guesses=True\n",
    "if out_of_guesses:\n",
    "        print(\"out of guesses, you lose\")\n",
    "else:\n",
    "    \n",
    "    print(\"you win\")    "
   ]
  },
  {
   "cell_type": "code",
   "execution_count": 4,
   "metadata": {},
   "outputs": [
    {
     "name": "stdout",
     "output_type": "stream",
     "text": [
      "enter guess: man\n",
      "enter guess: giraffe\n",
      "you win\n"
     ]
    }
   ],
   "source": [
    "secret_word=\"giraffe\"\n",
    "guess=\"\"\n",
    "guess_count=0\n",
    "guess_limit=3\n",
    "out_of_guesses=False\n",
    "\n",
    "while guess!=secret_word and not(out_of_guesses):\n",
    "    if guess_count<guess_limit:\n",
    "        guess=input(\"enter guess: \")\n",
    "        guess_count+=1\n",
    "    else:\n",
    "        out_of_guesses=True\n",
    "if out_of_guesses:\n",
    "        print(\"out of guesses, you lose\")\n",
    "else:\n",
    "    \n",
    "    print(\"you win\")    "
   ]
  },
  {
   "cell_type": "code",
   "execution_count": null,
   "metadata": {},
   "outputs": [],
   "source": []
  }
 ],
 "metadata": {
  "kernelspec": {
   "display_name": "Python 3",
   "language": "python",
   "name": "python3"
  },
  "language_info": {
   "codemirror_mode": {
    "name": "ipython",
    "version": 3
   },
   "file_extension": ".py",
   "mimetype": "text/x-python",
   "name": "python",
   "nbconvert_exporter": "python",
   "pygments_lexer": "ipython3",
   "version": "3.7.3"
  }
 },
 "nbformat": 4,
 "nbformat_minor": 2
}
