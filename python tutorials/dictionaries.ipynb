{
 "cells": [
  {
   "cell_type": "code",
   "execution_count": 11,
   "metadata": {},
   "outputs": [
    {
     "name": "stdout",
     "output_type": "stream",
     "text": [
      "april\n"
     ]
    }
   ],
   "source": [
    "month_conversion={\n",
    "    \"jan\":\"january\",\n",
    "    \"feb\":\"february\",\n",
    "    \"mar\":\"march\",\n",
    "    \"apr\":\"april\",\n",
    "}\n",
    "print(month_conversion[\"apr\"])"
   ]
  },
  {
   "cell_type": "code",
   "execution_count": 12,
   "metadata": {},
   "outputs": [
    {
     "name": "stdout",
     "output_type": "stream",
     "text": [
      "march\n"
     ]
    }
   ],
   "source": [
    "month_conversion={\n",
    "    \"jan\":\"january\",\n",
    "    \"feb\":\"february\",\n",
    "    \"mar\":\"march\",\n",
    "    \"apr\":\"april\",\n",
    "}\n",
    "print(month_conversion.get(\"mar\"))"
   ]
  },
  {
   "cell_type": "code",
   "execution_count": 14,
   "metadata": {},
   "outputs": [
    {
     "name": "stdout",
     "output_type": "stream",
     "text": [
      "None\n"
     ]
    }
   ],
   "source": [
    "month_conversion={\n",
    "    \"jan\":\"january\",\n",
    "    \"feb\":\"february\",\n",
    "    \"mar\":\"march\",\n",
    "    \"apr\":\"april\",\n",
    "}\n",
    "print(month_conversion.get(\"luv\"))"
   ]
  },
  {
   "cell_type": "code",
   "execution_count": null,
   "metadata": {},
   "outputs": [],
   "source": []
  }
 ],
 "metadata": {
  "kernelspec": {
   "display_name": "Python 3",
   "language": "python",
   "name": "python3"
  },
  "language_info": {
   "codemirror_mode": {
    "name": "ipython",
    "version": 3
   },
   "file_extension": ".py",
   "mimetype": "text/x-python",
   "name": "python",
   "nbconvert_exporter": "python",
   "pygments_lexer": "ipython3",
   "version": "3.7.3"
  }
 },
 "nbformat": 4,
 "nbformat_minor": 2
}
