{
 "cells": [
  {
   "cell_type": "code",
   "execution_count": 1,
   "metadata": {},
   "outputs": [
    {
     "name": "stdout",
     "output_type": "stream",
     "text": [
      "enter your nameAnn\n",
      "enter your age35\n"
     ]
    }
   ],
   "source": [
    "#you can assign a variable to store the info\n",
    "name=input(\"enter your name\")\n",
    "age=input(\"enter your age\")"
   ]
  },
  {
   "cell_type": "code",
   "execution_count": 2,
   "metadata": {},
   "outputs": [
    {
     "name": "stdout",
     "output_type": "stream",
     "text": [
      "helloAnn!you are35\n"
     ]
    }
   ],
   "source": [
    "print(\"hello\"+name+\"!\"+ \"you are\"+ age)"
   ]
  },
  {
   "cell_type": "code",
   "execution_count": 3,
   "metadata": {},
   "outputs": [
    {
     "name": "stdout",
     "output_type": "stream",
     "text": [
      "enter a number:6\n",
      "enter another number:4.0\n",
      "64.0\n"
     ]
    }
   ],
   "source": [
    "num1=input(\"enter a number:\")      #we dont get 10 as an answer because we are adding 2 strings. \n",
    "num2=input(\"enter another number:\")\n",
    "result=num1+num2\n",
    "print(result)                       #to get the actual sum we have to change string to integer or decimal(float)"
   ]
  },
  {
   "cell_type": "code",
   "execution_count": 4,
   "metadata": {},
   "outputs": [
    {
     "name": "stdout",
     "output_type": "stream",
     "text": [
      "enter a number:6\n",
      "enter another number:4\n",
      "10\n"
     ]
    }
   ],
   "source": [
    "num1=input(\"enter a number:\")     \n",
    "num2=input(\"enter another number:\")\n",
    "result=int(num1)+int(num2)\n",
    "print(result)                       "
   ]
  },
  {
   "cell_type": "code",
   "execution_count": null,
   "metadata": {},
   "outputs": [],
   "source": []
  }
 ],
 "metadata": {
  "kernelspec": {
   "display_name": "Python 3",
   "language": "python",
   "name": "python3"
  },
  "language_info": {
   "codemirror_mode": {
    "name": "ipython",
    "version": 3
   },
   "file_extension": ".py",
   "mimetype": "text/x-python",
   "name": "python",
   "nbconvert_exporter": "python",
   "pygments_lexer": "ipython3",
   "version": "3.7.3"
  }
 },
 "nbformat": 4,
 "nbformat_minor": 2
}
