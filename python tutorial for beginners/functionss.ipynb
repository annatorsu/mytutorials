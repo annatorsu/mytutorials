{
 "cells": [
  {
   "cell_type": "code",
   "execution_count": 3,
   "metadata": {},
   "outputs": [
    {
     "name": "stdout",
     "output_type": "stream",
     "text": [
      "start\n",
      "Hi john smith!\n",
      "welcome aboard\n",
      "finish\n"
     ]
    }
   ],
   "source": [
    "def greet_user(first_name, last_name):\n",
    "    print(f\"Hi {first_name} {last_name}!\")\n",
    "    print(\"welcome aboard\")\n",
    "print(\"start\")\n",
    "greet_user(\"john\", last_name=\"smith\")  #you can use positional argument first then keyword ARGUMENTS and not the other way round\n",
    "print(\"finish\")\n",
    "              "
   ]
  },
  {
   "cell_type": "code",
   "execution_count": null,
   "metadata": {},
   "outputs": [],
   "source": []
  }
 ],
 "metadata": {
  "kernelspec": {
   "display_name": "Python 3",
   "language": "python",
   "name": "python3"
  },
  "language_info": {
   "codemirror_mode": {
    "name": "ipython",
    "version": 3
   },
   "file_extension": ".py",
   "mimetype": "text/x-python",
   "name": "python",
   "nbconvert_exporter": "python",
   "pygments_lexer": "ipython3",
   "version": "3.7.3"
  }
 },
 "nbformat": 4,
 "nbformat_minor": 2
}
